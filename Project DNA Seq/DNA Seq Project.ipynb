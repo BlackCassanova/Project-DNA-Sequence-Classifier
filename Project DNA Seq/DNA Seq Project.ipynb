{
 "cells": [
  {
   "cell_type": "markdown",
   "metadata": {},
   "source": [
    "### Import DNA data of HUMAN, CHIMP, DOG"
   ]
  },
  {
   "cell_type": "code",
   "execution_count": 1,
   "metadata": {},
   "outputs": [],
   "source": [
    "import numpy as np\n",
    "import pandas as pd\n",
    "import matplotlib.pyplot as plt\n",
    "%matplotlib inline"
   ]
  },
  {
   "cell_type": "code",
   "execution_count": 2,
   "metadata": {},
   "outputs": [
    {
     "data": {
      "text/html": [
       "<div>\n",
       "<style scoped>\n",
       "    .dataframe tbody tr th:only-of-type {\n",
       "        vertical-align: middle;\n",
       "    }\n",
       "\n",
       "    .dataframe tbody tr th {\n",
       "        vertical-align: top;\n",
       "    }\n",
       "\n",
       "    .dataframe thead th {\n",
       "        text-align: right;\n",
       "    }\n",
       "</style>\n",
       "<table border=\"1\" class=\"dataframe\">\n",
       "  <thead>\n",
       "    <tr style=\"text-align: right;\">\n",
       "      <th></th>\n",
       "      <th>sequence</th>\n",
       "      <th>class</th>\n",
       "    </tr>\n",
       "  </thead>\n",
       "  <tbody>\n",
       "    <tr>\n",
       "      <td>0</td>\n",
       "      <td>ATGCCCCAACTAAATACTACCGTATGGCCCACCATAATTACCCCCA...</td>\n",
       "      <td>4</td>\n",
       "    </tr>\n",
       "    <tr>\n",
       "      <td>1</td>\n",
       "      <td>ATGAACGAAAATCTGTTCGCTTCATTCATTGCCCCCACAATCCTAG...</td>\n",
       "      <td>4</td>\n",
       "    </tr>\n",
       "    <tr>\n",
       "      <td>2</td>\n",
       "      <td>ATGTGTGGCATTTGGGCGCTGTTTGGCAGTGATGATTGCCTTTCTG...</td>\n",
       "      <td>3</td>\n",
       "    </tr>\n",
       "    <tr>\n",
       "      <td>3</td>\n",
       "      <td>ATGTGTGGCATTTGGGCGCTGTTTGGCAGTGATGATTGCCTTTCTG...</td>\n",
       "      <td>3</td>\n",
       "    </tr>\n",
       "    <tr>\n",
       "      <td>4</td>\n",
       "      <td>ATGCAACAGCATTTTGAATTTGAATACCAGACCAAAGTGGATGGTG...</td>\n",
       "      <td>3</td>\n",
       "    </tr>\n",
       "  </tbody>\n",
       "</table>\n",
       "</div>"
      ],
      "text/plain": [
       "                                            sequence  class\n",
       "0  ATGCCCCAACTAAATACTACCGTATGGCCCACCATAATTACCCCCA...      4\n",
       "1  ATGAACGAAAATCTGTTCGCTTCATTCATTGCCCCCACAATCCTAG...      4\n",
       "2  ATGTGTGGCATTTGGGCGCTGTTTGGCAGTGATGATTGCCTTTCTG...      3\n",
       "3  ATGTGTGGCATTTGGGCGCTGTTTGGCAGTGATGATTGCCTTTCTG...      3\n",
       "4  ATGCAACAGCATTTTGAATTTGAATACCAGACCAAAGTGGATGGTG...      3"
      ]
     },
     "execution_count": 2,
     "metadata": {},
     "output_type": "execute_result"
    }
   ],
   "source": [
    "h_df1 = pd.read_table('human_data.txt')\n",
    "h_df1.head()"
   ]
  },
  {
   "cell_type": "code",
   "execution_count": 3,
   "metadata": {},
   "outputs": [
    {
     "data": {
      "text/html": [
       "<div>\n",
       "<style scoped>\n",
       "    .dataframe tbody tr th:only-of-type {\n",
       "        vertical-align: middle;\n",
       "    }\n",
       "\n",
       "    .dataframe tbody tr th {\n",
       "        vertical-align: top;\n",
       "    }\n",
       "\n",
       "    .dataframe thead th {\n",
       "        text-align: right;\n",
       "    }\n",
       "</style>\n",
       "<table border=\"1\" class=\"dataframe\">\n",
       "  <thead>\n",
       "    <tr style=\"text-align: right;\">\n",
       "      <th></th>\n",
       "      <th>sequence</th>\n",
       "      <th>class</th>\n",
       "    </tr>\n",
       "  </thead>\n",
       "  <tbody>\n",
       "    <tr>\n",
       "      <td>0</td>\n",
       "      <td>ATGCCACAGCTAGATACATCCACCTGATTTATTATAATCTTTTCAA...</td>\n",
       "      <td>4</td>\n",
       "    </tr>\n",
       "    <tr>\n",
       "      <td>1</td>\n",
       "      <td>ATGAACGAAAATCTATTCGCTTCTTTCGCTGCCCCCTCAATAATAG...</td>\n",
       "      <td>4</td>\n",
       "    </tr>\n",
       "    <tr>\n",
       "      <td>2</td>\n",
       "      <td>ATGGAAACACCCTTCTACGGCGATGAGGCGCTGAGCGGCCTGGGCG...</td>\n",
       "      <td>6</td>\n",
       "    </tr>\n",
       "    <tr>\n",
       "      <td>3</td>\n",
       "      <td>ATGTGCACTAAAATGGAACAGCCCTTCTACCACGACGACTCATACG...</td>\n",
       "      <td>6</td>\n",
       "    </tr>\n",
       "    <tr>\n",
       "      <td>4</td>\n",
       "      <td>ATGAGCCGGCAGCTAAACAGAAGCCAGAACTGCTCCTTCAGTGACG...</td>\n",
       "      <td>0</td>\n",
       "    </tr>\n",
       "  </tbody>\n",
       "</table>\n",
       "</div>"
      ],
      "text/plain": [
       "                                            sequence  class\n",
       "0  ATGCCACAGCTAGATACATCCACCTGATTTATTATAATCTTTTCAA...      4\n",
       "1  ATGAACGAAAATCTATTCGCTTCTTTCGCTGCCCCCTCAATAATAG...      4\n",
       "2  ATGGAAACACCCTTCTACGGCGATGAGGCGCTGAGCGGCCTGGGCG...      6\n",
       "3  ATGTGCACTAAAATGGAACAGCCCTTCTACCACGACGACTCATACG...      6\n",
       "4  ATGAGCCGGCAGCTAAACAGAAGCCAGAACTGCTCCTTCAGTGACG...      0"
      ]
     },
     "execution_count": 3,
     "metadata": {},
     "output_type": "execute_result"
    }
   ],
   "source": [
    "c_df1=pd.read_table('chimp_data.txt')\n",
    "d_df1=pd.read_table('dog_data.txt')\n",
    "c_df1.head()\n",
    "d_df1.head()"
   ]
  },
  {
   "cell_type": "code",
   "execution_count": 4,
   "metadata": {},
   "outputs": [
    {
     "data": {
      "text/html": [
       "<div>\n",
       "<style scoped>\n",
       "    .dataframe tbody tr th:only-of-type {\n",
       "        vertical-align: middle;\n",
       "    }\n",
       "\n",
       "    .dataframe tbody tr th {\n",
       "        vertical-align: top;\n",
       "    }\n",
       "\n",
       "    .dataframe thead th {\n",
       "        text-align: right;\n",
       "    }\n",
       "</style>\n",
       "<table border=\"1\" class=\"dataframe\">\n",
       "  <thead>\n",
       "    <tr style=\"text-align: right;\">\n",
       "      <th></th>\n",
       "      <th>sequence</th>\n",
       "    </tr>\n",
       "    <tr>\n",
       "      <th>class</th>\n",
       "      <th></th>\n",
       "    </tr>\n",
       "  </thead>\n",
       "  <tbody>\n",
       "    <tr>\n",
       "      <td>0</td>\n",
       "      <td>531</td>\n",
       "    </tr>\n",
       "    <tr>\n",
       "      <td>1</td>\n",
       "      <td>534</td>\n",
       "    </tr>\n",
       "    <tr>\n",
       "      <td>2</td>\n",
       "      <td>349</td>\n",
       "    </tr>\n",
       "    <tr>\n",
       "      <td>3</td>\n",
       "      <td>672</td>\n",
       "    </tr>\n",
       "    <tr>\n",
       "      <td>4</td>\n",
       "      <td>711</td>\n",
       "    </tr>\n",
       "    <tr>\n",
       "      <td>5</td>\n",
       "      <td>240</td>\n",
       "    </tr>\n",
       "    <tr>\n",
       "      <td>6</td>\n",
       "      <td>1343</td>\n",
       "    </tr>\n",
       "  </tbody>\n",
       "</table>\n",
       "</div>"
      ],
      "text/plain": [
       "       sequence\n",
       "class          \n",
       "0           531\n",
       "1           534\n",
       "2           349\n",
       "3           672\n",
       "4           711\n",
       "5           240\n",
       "6          1343"
      ]
     },
     "execution_count": 4,
     "metadata": {},
     "output_type": "execute_result"
    }
   ],
   "source": [
    "h_df1.groupby('class').count()"
   ]
  },
  {
   "cell_type": "markdown",
   "metadata": {},
   "source": [
    "### Defining a function to conver sequence strings into k-mer words, here k=6 (hexamer)\n"
   ]
  },
  {
   "cell_type": "code",
   "execution_count": 5,
   "metadata": {},
   "outputs": [],
   "source": [
    "def getKmers(sequence, size=6):\n",
    "    return [sequence[x:x+size].lower() for x in range (len(sequence)-size+1)]"
   ]
  },
  {
   "cell_type": "code",
   "execution_count": 6,
   "metadata": {},
   "outputs": [
    {
     "data": {
      "text/html": [
       "<div>\n",
       "<style scoped>\n",
       "    .dataframe tbody tr th:only-of-type {\n",
       "        vertical-align: middle;\n",
       "    }\n",
       "\n",
       "    .dataframe tbody tr th {\n",
       "        vertical-align: top;\n",
       "    }\n",
       "\n",
       "    .dataframe thead th {\n",
       "        text-align: right;\n",
       "    }\n",
       "</style>\n",
       "<table border=\"1\" class=\"dataframe\">\n",
       "  <thead>\n",
       "    <tr style=\"text-align: right;\">\n",
       "      <th></th>\n",
       "      <th>class</th>\n",
       "      <th>words</th>\n",
       "    </tr>\n",
       "  </thead>\n",
       "  <tbody>\n",
       "    <tr>\n",
       "      <td>0</td>\n",
       "      <td>4</td>\n",
       "      <td>[atgccc, tgcccc, gcccca, ccccaa, cccaac, ccaac...</td>\n",
       "    </tr>\n",
       "    <tr>\n",
       "      <td>1</td>\n",
       "      <td>4</td>\n",
       "      <td>[atgaac, tgaacg, gaacga, aacgaa, acgaaa, cgaaa...</td>\n",
       "    </tr>\n",
       "    <tr>\n",
       "      <td>2</td>\n",
       "      <td>3</td>\n",
       "      <td>[atgtgt, tgtgtg, gtgtgg, tgtggc, gtggca, tggca...</td>\n",
       "    </tr>\n",
       "    <tr>\n",
       "      <td>3</td>\n",
       "      <td>3</td>\n",
       "      <td>[atgtgt, tgtgtg, gtgtgg, tgtggc, gtggca, tggca...</td>\n",
       "    </tr>\n",
       "    <tr>\n",
       "      <td>4</td>\n",
       "      <td>3</td>\n",
       "      <td>[atgcaa, tgcaac, gcaaca, caacag, aacagc, acagc...</td>\n",
       "    </tr>\n",
       "  </tbody>\n",
       "</table>\n",
       "</div>"
      ],
      "text/plain": [
       "   class                                              words\n",
       "0      4  [atgccc, tgcccc, gcccca, ccccaa, cccaac, ccaac...\n",
       "1      4  [atgaac, tgaacg, gaacga, aacgaa, acgaaa, cgaaa...\n",
       "2      3  [atgtgt, tgtgtg, gtgtgg, tgtggc, gtggca, tggca...\n",
       "3      3  [atgtgt, tgtgtg, gtgtgg, tgtggc, gtggca, tggca...\n",
       "4      3  [atgcaa, tgcaac, gcaaca, caacag, aacagc, acagc..."
      ]
     },
     "execution_count": 6,
     "metadata": {},
     "output_type": "execute_result"
    }
   ],
   "source": [
    "h_df2 = h_df1.copy()\n",
    "h_df2['words'] = h_df2.apply(lambda x: getKmers(x['sequence']), axis=1)\n",
    "h_df2 = h_df2.drop('sequence', axis=1)\n",
    "h_df2.head()"
   ]
  },
  {
   "cell_type": "code",
   "execution_count": 7,
   "metadata": {},
   "outputs": [
    {
     "data": {
      "text/html": [
       "<div>\n",
       "<style scoped>\n",
       "    .dataframe tbody tr th:only-of-type {\n",
       "        vertical-align: middle;\n",
       "    }\n",
       "\n",
       "    .dataframe tbody tr th {\n",
       "        vertical-align: top;\n",
       "    }\n",
       "\n",
       "    .dataframe thead th {\n",
       "        text-align: right;\n",
       "    }\n",
       "</style>\n",
       "<table border=\"1\" class=\"dataframe\">\n",
       "  <thead>\n",
       "    <tr style=\"text-align: right;\">\n",
       "      <th></th>\n",
       "      <th>class</th>\n",
       "      <th>words</th>\n",
       "    </tr>\n",
       "  </thead>\n",
       "  <tbody>\n",
       "    <tr>\n",
       "      <td>0</td>\n",
       "      <td>4</td>\n",
       "      <td>[atgccc, tgcccc, gcccca, ccccaa, cccaac, ccaac...</td>\n",
       "    </tr>\n",
       "    <tr>\n",
       "      <td>1</td>\n",
       "      <td>4</td>\n",
       "      <td>[atgaac, tgaacg, gaacga, aacgaa, acgaaa, cgaaa...</td>\n",
       "    </tr>\n",
       "    <tr>\n",
       "      <td>2</td>\n",
       "      <td>4</td>\n",
       "      <td>[atggcc, tggcct, ggcctc, gcctcg, cctcgc, ctcgc...</td>\n",
       "    </tr>\n",
       "    <tr>\n",
       "      <td>3</td>\n",
       "      <td>4</td>\n",
       "      <td>[atggcc, tggcct, ggcctc, gcctcg, cctcgc, ctcgc...</td>\n",
       "    </tr>\n",
       "    <tr>\n",
       "      <td>4</td>\n",
       "      <td>6</td>\n",
       "      <td>[atgggc, tgggca, gggcag, ggcagc, gcagcg, cagcg...</td>\n",
       "    </tr>\n",
       "  </tbody>\n",
       "</table>\n",
       "</div>"
      ],
      "text/plain": [
       "   class                                              words\n",
       "0      4  [atgccc, tgcccc, gcccca, ccccaa, cccaac, ccaac...\n",
       "1      4  [atgaac, tgaacg, gaacga, aacgaa, acgaaa, cgaaa...\n",
       "2      4  [atggcc, tggcct, ggcctc, gcctcg, cctcgc, ctcgc...\n",
       "3      4  [atggcc, tggcct, ggcctc, gcctcg, cctcgc, ctcgc...\n",
       "4      6  [atgggc, tgggca, gggcag, ggcagc, gcagcg, cagcg..."
      ]
     },
     "execution_count": 7,
     "metadata": {},
     "output_type": "execute_result"
    }
   ],
   "source": [
    "c_df2 = c_df1.copy()\n",
    "c_df2['words'] = c_df2.apply(lambda x: getKmers(x['sequence']), axis=1)\n",
    "c_df2 = c_df2.drop('sequence', axis=1)\n",
    "c_df2.head()"
   ]
  },
  {
   "cell_type": "code",
   "execution_count": 8,
   "metadata": {},
   "outputs": [
    {
     "data": {
      "text/html": [
       "<div>\n",
       "<style scoped>\n",
       "    .dataframe tbody tr th:only-of-type {\n",
       "        vertical-align: middle;\n",
       "    }\n",
       "\n",
       "    .dataframe tbody tr th {\n",
       "        vertical-align: top;\n",
       "    }\n",
       "\n",
       "    .dataframe thead th {\n",
       "        text-align: right;\n",
       "    }\n",
       "</style>\n",
       "<table border=\"1\" class=\"dataframe\">\n",
       "  <thead>\n",
       "    <tr style=\"text-align: right;\">\n",
       "      <th></th>\n",
       "      <th>class</th>\n",
       "      <th>words</th>\n",
       "    </tr>\n",
       "  </thead>\n",
       "  <tbody>\n",
       "    <tr>\n",
       "      <td>0</td>\n",
       "      <td>4</td>\n",
       "      <td>[atgcca, tgccac, gccaca, ccacag, cacagc, acagc...</td>\n",
       "    </tr>\n",
       "    <tr>\n",
       "      <td>1</td>\n",
       "      <td>4</td>\n",
       "      <td>[atgaac, tgaacg, gaacga, aacgaa, acgaaa, cgaaa...</td>\n",
       "    </tr>\n",
       "    <tr>\n",
       "      <td>2</td>\n",
       "      <td>6</td>\n",
       "      <td>[atggaa, tggaaa, ggaaac, gaaaca, aaacac, aacac...</td>\n",
       "    </tr>\n",
       "    <tr>\n",
       "      <td>3</td>\n",
       "      <td>6</td>\n",
       "      <td>[atgtgc, tgtgca, gtgcac, tgcact, gcacta, cacta...</td>\n",
       "    </tr>\n",
       "    <tr>\n",
       "      <td>4</td>\n",
       "      <td>0</td>\n",
       "      <td>[atgagc, tgagcc, gagccg, agccgg, gccggc, ccggc...</td>\n",
       "    </tr>\n",
       "  </tbody>\n",
       "</table>\n",
       "</div>"
      ],
      "text/plain": [
       "   class                                              words\n",
       "0      4  [atgcca, tgccac, gccaca, ccacag, cacagc, acagc...\n",
       "1      4  [atgaac, tgaacg, gaacga, aacgaa, acgaaa, cgaaa...\n",
       "2      6  [atggaa, tggaaa, ggaaac, gaaaca, aaacac, aacac...\n",
       "3      6  [atgtgc, tgtgca, gtgcac, tgcact, gcacta, cacta...\n",
       "4      0  [atgagc, tgagcc, gagccg, agccgg, gccggc, ccggc..."
      ]
     },
     "execution_count": 8,
     "metadata": {},
     "output_type": "execute_result"
    }
   ],
   "source": [
    "d_df2 = d_df1.copy()\n",
    "d_df2['words'] = d_df2.apply(lambda x: getKmers(x['sequence']), axis=1)\n",
    "d_df2 = d_df2.drop('sequence', axis=1)\n",
    "d_df2.head()"
   ]
  },
  {
   "cell_type": "code",
   "execution_count": 9,
   "metadata": {},
   "outputs": [
    {
     "name": "stdout",
     "output_type": "stream",
     "text": [
      "atgccc tgcccc gcccca ccccaa cccaac ccaact caacta aactaa actaaa ctaaat taaata aaatac aatact atacta tactac actacc ctaccg taccgt accgta ccgtat cgtatg gtatgg tatggc atggcc tggccc ggccca gcccac cccacc ccacca caccat accata ccataa cataat ataatt taatta aattac attacc ttaccc tacccc accccc ccccca ccccat cccata ccatac catact atactc tactcc actcct ctcctt tcctta ccttac cttaca ttacac tacact acacta cactat actatt ctattc tattcc attcct ttcctc tcctca cctcat ctcatc tcatca catcac atcacc tcaccc caccca acccaa cccaac ccaact caacta aactaa actaaa ctaaaa taaaaa aaaaat aaaata aaatat aatatt atatta tattaa attaaa ttaaac taaaca aaacac aacaca acacaa cacaaa acaaac caaact aaacta aactac actacc ctacca taccac accacc ccacct caccta acctac cctacc ctacct tacctc acctcc cctccc ctccct tccctc ccctca cctcac ctcacc tcacca caccaa accaaa ccaaag caaagc aaagcc aagccc agccca gcccat cccata ccataa cataaa ataaaa taaaaa aaaaat aaaata aaataa aataaa ataaaa taaaaa aaaaaa aaaaat aaaatt aaatta aattat attata ttataa tataac ataaca taacaa aacaaa acaaac caaacc aaaccc aaccct accctg ccctga cctgag ctgaga tgagaa gagaac agaacc gaacca aaccaa accaaa ccaaaa caaaat aaaatg aaatga aatgaa atgaac tgaacg gaacga aacgaa acgaaa cgaaaa gaaaat aaaatc aaatct aatctg atctgt tctgtt ctgttc tgttcg gttcgc ttcgct tcgctt cgcttc gcttca cttcat ttcatt tcattc cattca attcat ttcatt tcattg cattgc attgcc ttgccc tgcccc gccccc ccccca ccccac cccaca ccacaa cacaat acaatc caatcc aatcct atccta tcctag\n"
     ]
    }
   ],
   "source": [
    "h_texts = list(h_df2['words'])\n",
    "for item in range(len(h_texts)):\n",
    "    h_texts[item]=' '.join(h_texts[item])\n",
    "y_human = h_df2.iloc[:,0].values\n",
    "print(h_texts[0])"
   ]
  },
  {
   "cell_type": "code",
   "execution_count": 10,
   "metadata": {},
   "outputs": [
    {
     "data": {
      "text/plain": [
       "array([4, 4, 3, ..., 6, 6, 6], dtype=int64)"
      ]
     },
     "execution_count": 10,
     "metadata": {},
     "output_type": "execute_result"
    }
   ],
   "source": [
    "y_human"
   ]
  },
  {
   "cell_type": "code",
   "execution_count": 11,
   "metadata": {},
   "outputs": [
    {
     "name": "stdout",
     "output_type": "stream",
     "text": [
      "atgccc tgcccc gcccca ccccaa cccaac ccaact caacta aactaa actaaa ctaaat taaata aaatac aatacc ataccg taccgc accgcc ccgccg cgccgt gccgta ccgtat cgtatg gtatga tatgac atgacc tgaccc gaccca acccac cccacc ccacca caccat accata ccataa cataat ataatt taatta aattac attacc ttaccc tacccc accccc ccccca ccccat cccata ccatac catact atactc tactcc actcct ctcctg tcctga cctgac ctgaca tgacac gacact acacta cactat actatt ctattt tatttc atttct tttctc ttctcg tctcgt ctcgtc tcgtca cgtcac gtcacc tcaccc caccca acccaa cccaac ccaact caacta aactaa actaaa ctaaaa taaaaa aaaaat aaaata aaatat aatatt atatta tattaa attaaa ttaaat taaatt aaattc aattca attcaa ttcaaa tcaaat caaatt aaatta aattac attacc ttacca taccat accatc ccatct catcta atctac tctacc ctaccc tacccc accccc cccccc ccccct cccctc ccctca cctcac ctcacc tcacca caccaa accaaa ccaaaa caaaac aaaacc aaaccc aaccca acccat cccata ccataa cataaa ataaaa taaaaa aaaaat aaaata aaataa aataaa ataaaa taaaaa aaaaaa aaaaac aaaact aaacta aactac actaca ctacaa tacaat acaata caataa aataaa ataaac taaacc aaaccc aaccct accctg ccctga cctgag ctgaga tgagaa gagaac agaacc gaacca aaccaa accaaa ccaaaa caaaat aaaatg aaatga aatgaa atgaac tgaacg gaacga aacgaa acgaaa cgaaaa gaaaat aaaatc aaatct aatcta atctat tctatt ctattc tattcg attcgc ttcgct tcgctt cgcttc gcttca cttcat ttcatt tcattc cattcg attcgc ttcgct tcgctg cgctgc gctgcc ctgccc tgcccc gccccc ccccca ccccac cccaca ccacaa cacaat acaatc caatcc aatcct atccta tcctag\n"
     ]
    }
   ],
   "source": [
    "c_texts = list(c_df2['words'])\n",
    "for item in range(len(c_texts)):\n",
    "    c_texts[item]=' '.join(c_texts[item])\n",
    "y_chimp = c_df2.iloc[:,0].values\n",
    "print(c_texts[0])"
   ]
  },
  {
   "cell_type": "code",
   "execution_count": 12,
   "metadata": {},
   "outputs": [
    {
     "name": "stdout",
     "output_type": "stream",
     "text": [
      "atgcca tgccac gccaca ccacag cacagc acagct cagcta agctag gctaga ctagat tagata agatac gataca atacat tacatc acatcc catcca atccac tccacc ccacct cacctg acctga cctgat ctgatt tgattt gattta atttat tttatt ttatta tattat attata ttataa tataat ataatc taatct aatctt atcttt tctttt cttttc ttttca tttcaa ttcaat tcaata caatat aatatt atattt tatttc atttct tttctc ttctca tctcac ctcacc tcaccc caccct accctc ccctct cctctt ctcttc tcttca cttcat ttcatc tcatcc catcct atccta tcctat cctatt ctattt tatttc atttca tttcaa ttcaac tcaact caacta aactaa actaaa ctaaaa taaaaa aaaaat aaaatt aaattt aatttc atttca tttcaa ttcaaa tcaaat caaatc aaatca aatcac atcact tcacta cactac actact ctacta tactac actacc ctaccc taccca acccag cccaga ccagaa cagaaa agaaaa gaaaac aaaacc aaaccc aacccg acccga cccgat ccgata cgataa gataac ataacc taacca aaccaa accaaa ccaaat caaatc aaatct aatctg atctgc tctgct ctgcta tgctaa gctaaa ctaaaa taaaat aaaatt aaattg aattgc attgct ttgctg tgctgg gctggt ctggtc tggtca ggtcaa gtcaac tcaaca caacat aacata acataa cataat ataatc taatcc aatcct atcctt tccttg ccttga cttgag ttgaga tgagaa gagaaa agaaaa gaaaac aaaaca aaacaa aacaaa acaaat caaatg aaatga aatgaa atgaac tgaacg gaacga aacgaa acgaaa cgaaaa gaaaat aaaatc aaatct aatcta atctat tctatt ctattc tattcg attcgc ttcgct tcgctt cgcttc gcttct cttctt ttcttt tctttc ctttcg tttcgc ttcgct tcgctg cgctgc gctgcc ctgccc tgcccc gccccc ccccct cccctc ccctca cctcaa ctcaat tcaata caataa\n"
     ]
    }
   ],
   "source": [
    "d_texts = list(d_df2['words'])\n",
    "for item in range(len(d_texts)):\n",
    "    d_texts[item]=' '.join(d_texts[item])\n",
    "y_dog = d_df2.iloc[:,0].values\n",
    "print(d_texts[0])"
   ]
  },
  {
   "cell_type": "markdown",
   "metadata": {},
   "source": [
    "### Using Bag of Words by Count Vectorizer"
   ]
  },
  {
   "cell_type": "code",
   "execution_count": 13,
   "metadata": {},
   "outputs": [],
   "source": [
    "from sklearn.feature_extraction.text import CountVectorizer\n",
    "cv = CountVectorizer(ngram_range=  (4,4))\n",
    "x_human=cv.fit_transform(h_texts)\n",
    "x_chimp= cv.fit_transform(c_texts)\n",
    "x_dog=cv.fit_transform(d_texts)"
   ]
  },
  {
   "cell_type": "code",
   "execution_count": 14,
   "metadata": {},
   "outputs": [
    {
     "name": "stdout",
     "output_type": "stream",
     "text": [
      "(4380, 232414)\n",
      "(1682, 229684)\n",
      "(820, 227149)\n"
     ]
    }
   ],
   "source": [
    "print (x_human.shape)\n",
    "print (x_chimp.shape)\n",
    "print (x_dog.shape)"
   ]
  },
  {
   "cell_type": "code",
   "execution_count": 15,
   "metadata": {},
   "outputs": [
    {
     "data": {
      "text/plain": [
       "<matplotlib.axes._subplots.AxesSubplot at 0x2e6e707d748>"
      ]
     },
     "execution_count": 15,
     "metadata": {},
     "output_type": "execute_result"
    },
    {
     "data": {
      "image/png": "[encoded data removed]",
      "text/plain": [
       "<Figure size 432x288 with 1 Axes>"
      ]
     },
     "metadata": {
      "needs_background": "light"
     },
     "output_type": "display_data"
    }
   ],
   "source": [
    "h_df2['class'].value_counts().sort_index().plot.bar()"
   ]
  },
  {
   "cell_type": "code",
   "execution_count": 16,
   "metadata": {},
   "outputs": [
    {
     "data": {
      "text/plain": [
       "<matplotlib.axes._subplots.AxesSubplot at 0x2e6e91fedc8>"
      ]
     },
     "execution_count": 16,
     "metadata": {},
     "output_type": "execute_result"
    },
    {
     "data": {
      "image/png": "[encoded data removed]",
      "text/plain": [
       "<Figure size 432x288 with 1 Axes>"
      ]
     },
     "metadata": {
      "needs_background": "light"
     },
     "output_type": "display_data"
    }
   ],
   "source": [
    "c_df2['class'].value_counts().sort_index().plot.bar()"
   ]
  },
  {
   "cell_type": "code",
   "execution_count": 17,
   "metadata": {},
   "outputs": [
    {
     "data": {
      "text/plain": [
       "<matplotlib.axes._subplots.AxesSubplot at 0x2e6e985ce88>"
      ]
     },
     "execution_count": 17,
     "metadata": {},
     "output_type": "execute_result"
    },
    {
     "data": {
      "image/png": "[encoded data removed]",
      "text/plain": [
       "<Figure size 432x288 with 1 Axes>"
      ]
     },
     "metadata": {
      "needs_background": "light"
     },
     "output_type": "display_data"
    }
   ],
   "source": [
    "d_df2['class'].value_counts().sort_index().plot.bar()"
   ]
  },
  {
   "cell_type": "code",
   "execution_count": 18,
   "metadata": {},
   "outputs": [
    {
     "name": "stdout",
     "output_type": "stream",
     "text": [
      "(4380, 232414)\n",
      "(1446, 232414)\n"
     ]
    }
   ],
   "source": [
    "from sklearn.model_selection import train_test_split\n",
    "x_train, x_test, y_train, y_test = train_test_split(x_human, y_human, test_size = 0.33, random_state= 45)\n",
    "\n",
    "print(x_human.shape)\n",
    "print(x_test.shape)"
   ]
  },
  {
   "cell_type": "code",
   "execution_count": 19,
   "metadata": {},
   "outputs": [
    {
     "name": "stdout",
     "output_type": "stream",
     "text": [
      "(1682, 229684)\n",
      "(1682, 229684)\n"
     ]
    }
   ],
   "source": [
    "x_ctrain, x_ctest, y_ctrain, y_ctest = train_test_split(x_chimp, y_chimp, test_size = 0.33, random_state= 45)\n",
    "\n",
    "print(x_chimp.shape)\n",
    "print(x_chimp.shape)"
   ]
  },
  {
   "cell_type": "code",
   "execution_count": 20,
   "metadata": {},
   "outputs": [
    {
     "name": "stdout",
     "output_type": "stream",
     "text": [
      "(820, 227149)\n",
      "(820, 227149)\n"
     ]
    }
   ],
   "source": [
    "x_dtrain, x_dtest, y_dtrain, y_dtest = train_test_split(x_dog, y_dog, test_size = 0.33, random_state= 45)\n",
    "\n",
    "print(x_dog.shape)\n",
    "print(x_dog.shape)"
   ]
  },
  {
   "cell_type": "markdown",
   "metadata": {},
   "source": [
    "### Grid Search CV"
   ]
  },
  {
   "cell_type": "code",
   "execution_count": 21,
   "metadata": {},
   "outputs": [
    {
     "data": {
      "text/plain": [
       "array([0.97792998, 0.97945205, 0.96042618, 0.96118721, 0.97031963])"
      ]
     },
     "execution_count": 21,
     "metadata": {},
     "output_type": "execute_result"
    }
   ],
   "source": [
    "from sklearn.model_selection import ShuffleSplit\n",
    "from sklearn.naive_bayes import MultinomialNB\n",
    "from sklearn.model_selection import cross_val_score\n",
    "\n",
    "CV = ShuffleSplit(n_splits =5, test_size = 0.3, random_state = 45)\n",
    "cross_val_score(MultinomialNB(),x_human,y_human,cv=CV)"
   ]
  },
  {
   "cell_type": "code",
   "execution_count": 22,
   "metadata": {},
   "outputs": [
    {
     "data": {
      "text/plain": [
       "array([0.9009901 , 0.9009901 , 0.8970297 , 0.92277228, 0.9029703 ])"
      ]
     },
     "execution_count": 22,
     "metadata": {},
     "output_type": "execute_result"
    }
   ],
   "source": [
    "cross_val_score(MultinomialNB(),x_chimp,y_chimp,cv=CV)"
   ]
  },
  {
   "cell_type": "code",
   "execution_count": 23,
   "metadata": {},
   "outputs": [
    {
     "data": {
      "text/plain": [
       "array([0.75203252, 0.68292683, 0.68699187, 0.73577236, 0.7195122 ])"
      ]
     },
     "execution_count": 23,
     "metadata": {},
     "output_type": "execute_result"
    }
   ],
   "source": [
    "cross_val_score(MultinomialNB(),x_dog,y_dog,cv=CV)"
   ]
  },
  {
   "cell_type": "code",
   "execution_count": 24,
   "metadata": {},
   "outputs": [
    {
     "data": {
      "text/html": [
       "<div>\n",
       "<style scoped>\n",
       "    .dataframe tbody tr th:only-of-type {\n",
       "        vertical-align: middle;\n",
       "    }\n",
       "\n",
       "    .dataframe tbody tr th {\n",
       "        vertical-align: top;\n",
       "    }\n",
       "\n",
       "    .dataframe thead th {\n",
       "        text-align: right;\n",
       "    }\n",
       "</style>\n",
       "<table border=\"1\" class=\"dataframe\">\n",
       "  <thead>\n",
       "    <tr style=\"text-align: right;\">\n",
       "      <th></th>\n",
       "      <th>best_score</th>\n",
       "      <th>best_params</th>\n",
       "    </tr>\n",
       "  </thead>\n",
       "  <tbody>\n",
       "    <tr>\n",
       "      <td>0</td>\n",
       "      <td>0.973059</td>\n",
       "      <td>{'alpha': 0.3}</td>\n",
       "    </tr>\n",
       "  </tbody>\n",
       "</table>\n",
       "</div>"
      ],
      "text/plain": [
       "   best_score     best_params\n",
       "0    0.973059  {'alpha': 0.3}"
      ]
     },
     "execution_count": 24,
     "metadata": {},
     "output_type": "execute_result"
    }
   ],
   "source": [
    "from sklearn.model_selection import GridSearchCV\n",
    "from sklearn.naive_bayes import MultinomialNB\n",
    "\n",
    "scores_human = []\n",
    "parameters = {'alpha':[0.1,0.125,0.150,0.2,0.3,0.5,1]}\n",
    "gs_human = GridSearchCV(MultinomialNB(), parameters, cv=CV, return_train_score=False)\n",
    "gs_human.fit(x_human,y_human)\n",
    "scores_human.append({\n",
    "            'best_score': gs_human.best_score_,\n",
    "            'best_params': gs_human.best_params_\n",
    "        })\n",
    "df_human = pd.DataFrame(scores_human, columns = ['best_score','best_params'])\n",
    "df_human.head()"
   ]
  },
  {
   "cell_type": "code",
   "execution_count": 25,
   "metadata": {},
   "outputs": [
    {
     "data": {
      "text/html": [
       "<div>\n",
       "<style scoped>\n",
       "    .dataframe tbody tr th:only-of-type {\n",
       "        vertical-align: middle;\n",
       "    }\n",
       "\n",
       "    .dataframe tbody tr th {\n",
       "        vertical-align: top;\n",
       "    }\n",
       "\n",
       "    .dataframe thead th {\n",
       "        text-align: right;\n",
       "    }\n",
       "</style>\n",
       "<table border=\"1\" class=\"dataframe\">\n",
       "  <thead>\n",
       "    <tr style=\"text-align: right;\">\n",
       "      <th></th>\n",
       "      <th>best_score</th>\n",
       "      <th>best_params</th>\n",
       "    </tr>\n",
       "  </thead>\n",
       "  <tbody>\n",
       "    <tr>\n",
       "      <td>0</td>\n",
       "      <td>0.908119</td>\n",
       "      <td>{'alpha': 0.3}</td>\n",
       "    </tr>\n",
       "  </tbody>\n",
       "</table>\n",
       "</div>"
      ],
      "text/plain": [
       "   best_score     best_params\n",
       "0    0.908119  {'alpha': 0.3}"
      ]
     },
     "execution_count": 25,
     "metadata": {},
     "output_type": "execute_result"
    }
   ],
   "source": [
    "scores_chimp=[]\n",
    "gs_chimp = GridSearchCV(MultinomialNB(), parameters, cv=CV, return_train_score=False)\n",
    "gs_chimp.fit(x_chimp,y_chimp)\n",
    "scores_chimp.append({\n",
    "            'best_score': gs_chimp.best_score_,\n",
    "            'best_params': gs_chimp.best_params_\n",
    "        })\n",
    "df_chimp = pd.DataFrame(scores_chimp, columns = ['best_score','best_params'])\n",
    "df_chimp.head()"
   ]
  },
  {
   "cell_type": "code",
   "execution_count": 26,
   "metadata": {},
   "outputs": [
    {
     "data": {
      "text/html": [
       "<div>\n",
       "<style scoped>\n",
       "    .dataframe tbody tr th:only-of-type {\n",
       "        vertical-align: middle;\n",
       "    }\n",
       "\n",
       "    .dataframe tbody tr th {\n",
       "        vertical-align: top;\n",
       "    }\n",
       "\n",
       "    .dataframe thead th {\n",
       "        text-align: right;\n",
       "    }\n",
       "</style>\n",
       "<table border=\"1\" class=\"dataframe\">\n",
       "  <thead>\n",
       "    <tr style=\"text-align: right;\">\n",
       "      <th></th>\n",
       "      <th>best_score</th>\n",
       "      <th>best_params</th>\n",
       "    </tr>\n",
       "  </thead>\n",
       "  <tbody>\n",
       "    <tr>\n",
       "      <td>0</td>\n",
       "      <td>0.725203</td>\n",
       "      <td>{'alpha': 0.3}</td>\n",
       "    </tr>\n",
       "  </tbody>\n",
       "</table>\n",
       "</div>"
      ],
      "text/plain": [
       "   best_score     best_params\n",
       "0    0.725203  {'alpha': 0.3}"
      ]
     },
     "execution_count": 26,
     "metadata": {},
     "output_type": "execute_result"
    }
   ],
   "source": [
    "scores_dog=[]\n",
    "gs_dog = GridSearchCV(MultinomialNB(), parameters, cv=CV, return_train_score=False)\n",
    "gs_dog.fit(x_dog,y_dog)\n",
    "scores_dog.append({\n",
    "            'best_score': gs_dog.best_score_,\n",
    "            'best_params': gs_dog.best_params_\n",
    "        })\n",
    "df_dog = pd.DataFrame(scores_dog, columns = ['best_score','best_params'])\n",
    "df_dog.head()"
   ]
  },
  {
   "cell_type": "markdown",
   "metadata": {},
   "source": [
    "### Apply Naives Bayes Classifier"
   ]
  },
  {
   "cell_type": "code",
   "execution_count": 27,
   "metadata": {},
   "outputs": [
    {
     "data": {
      "text/plain": [
       "array([0, 1, 4, ..., 2, 2, 3], dtype=int64)"
      ]
     },
     "execution_count": 27,
     "metadata": {},
     "output_type": "execute_result"
    }
   ],
   "source": [
    "from sklearn.naive_bayes import MultinomialNB\n",
    "classifier = MultinomialNB (alpha = 0.3)\n",
    "classifier.fit(x_train, y_train)\n",
    "y_pred = classifier.predict(x_test)\n",
    "y_pred"
   ]
  },
  {
   "cell_type": "code",
   "execution_count": 28,
   "metadata": {},
   "outputs": [
    {
     "data": {
      "text/plain": [
       "array([6, 6, 6, 2, 4, 6, 2, 0, 6, 6, 4, 0, 6, 1, 4, 2, 4, 4, 3, 6, 6, 3,\n",
       "       6, 4, 1, 6, 1, 4, 0, 0, 6, 0, 0, 6, 3, 6, 5, 3, 4, 3, 0, 3, 3, 0,\n",
       "       3, 5, 4, 3, 4, 6, 1, 4, 3, 3, 0, 3, 2, 2, 5, 1, 3, 5, 3, 6, 5, 1,\n",
       "       2, 4, 2, 4, 3, 6, 6, 4, 5, 6, 2, 4, 3, 6, 6, 5, 0, 0, 4, 3, 6, 3,\n",
       "       4, 3, 0, 4, 3, 6, 0, 6, 4, 6, 2, 0, 6, 5, 6, 4, 2, 5, 3, 3, 4, 6,\n",
       "       3, 6, 3, 4, 2, 3, 0, 3, 4, 4, 1, 0, 6, 5, 6, 4, 3, 6, 3, 0, 1, 1,\n",
       "       3, 3, 3, 5, 5, 6, 5, 4, 1, 3, 6, 6, 0, 3, 3, 0, 6, 6, 3, 3, 2, 2,\n",
       "       3, 2, 6, 1, 6, 2, 6, 6, 3, 3, 6, 6, 6, 0, 4, 3, 6, 4, 6, 6, 4, 6,\n",
       "       6, 6, 3, 6, 0, 6, 0, 4, 4, 6, 6, 6, 6, 6, 1, 1, 1, 6, 6, 3, 0, 3,\n",
       "       0, 3, 2, 4, 3, 6, 4, 6, 4, 3, 6, 1, 4, 3, 0, 2, 0, 6, 6, 6, 4, 6,\n",
       "       2, 2, 4, 3, 6, 3, 3, 6, 4, 4, 6, 3, 6, 4, 2, 4, 6, 3, 1, 0, 0, 5,\n",
       "       2, 3, 6, 5, 0, 6, 1, 6, 3, 1, 2, 0, 3, 1, 6, 6, 3, 4, 6, 6, 3, 4,\n",
       "       3, 4, 0, 6, 1, 6, 5, 6, 1, 5, 0, 0, 6, 5, 5, 6, 4, 6, 6, 3, 0, 3,\n",
       "       0, 6, 5, 4, 6, 1, 6, 2, 1, 3, 1, 2, 6, 5, 0, 3, 4, 6, 3, 4, 0, 3,\n",
       "       5, 4, 1, 4, 4, 3, 6, 6, 4, 6, 6, 1, 6, 6, 6, 3, 2, 3, 6, 4, 2, 6,\n",
       "       3, 6, 0, 6, 4, 6, 6, 6, 5, 0, 2, 4, 3, 4, 4, 6, 6, 6, 6, 3, 3, 0,\n",
       "       6, 4, 3, 1, 2, 2, 2, 6, 4, 2, 6, 6, 6, 6, 6, 3, 5, 5, 3, 0, 1, 4,\n",
       "       4, 6, 6, 0, 0, 6, 6, 2, 3, 0, 6, 6, 6, 6, 2, 6, 6, 5, 6, 6, 0, 5,\n",
       "       6, 6, 4, 3, 6, 2, 6, 0, 3, 6, 3, 1, 6, 1, 0, 3, 2, 6, 0, 6, 3, 3,\n",
       "       1, 4, 6, 4, 0, 3, 6, 4, 2, 2, 4, 3, 2, 3, 4, 3, 4, 6, 0, 6, 6, 4,\n",
       "       1, 6, 0, 1, 0, 0, 1, 2, 0, 3, 6, 3, 1, 0, 0, 3, 2, 6, 5, 4, 1, 3,\n",
       "       6, 1, 3, 3, 3, 4, 4, 2, 3, 1, 2, 0, 6, 6, 3, 1, 6, 6, 6, 6, 4, 2,\n",
       "       0, 6, 4, 2, 3, 1, 3, 6, 3, 1, 5, 6, 6, 2, 5, 6, 2, 6, 4, 6, 5, 6,\n",
       "       6, 4, 0, 6, 1, 5, 6, 6, 3, 6, 4, 4, 1, 0, 6, 6, 4, 4, 5, 6, 5, 3,\n",
       "       3, 6, 6, 6, 0, 2, 2, 6, 5, 1, 5, 3, 6, 6, 0, 6, 3, 6, 2, 6, 0, 4,\n",
       "       4, 0, 6, 6, 6, 5], dtype=int64)"
      ]
     },
     "execution_count": 28,
     "metadata": {},
     "output_type": "execute_result"
    }
   ],
   "source": [
    "classifier.fit(x_ctrain, y_ctrain)\n",
    "y_cpred = classifier.predict(x_ctest)\n",
    "y_cpred"
   ]
  },
  {
   "cell_type": "code",
   "execution_count": 29,
   "metadata": {
    "scrolled": true
   },
   "outputs": [
    {
     "data": {
      "text/plain": [
       "array([3, 6, 6, 3, 0, 3, 0, 1, 3, 6, 4, 3, 6, 1, 1, 2, 6, 6, 1, 5, 6, 2,\n",
       "       3, 6, 0, 0, 1, 5, 1, 0, 2, 6, 0, 5, 5, 3, 3, 5, 3, 2, 4, 0, 6, 0,\n",
       "       3, 6, 1, 0, 3, 6, 5, 0, 2, 6, 1, 4, 0, 6, 6, 5, 2, 4, 3, 1, 0, 6,\n",
       "       6, 0, 3, 6, 6, 5, 4, 5, 3, 2, 3, 6, 6, 6, 1, 4, 4, 6, 0, 3, 0, 3,\n",
       "       6, 1, 3, 5, 6, 0, 0, 0, 1, 6, 0, 0, 3, 0, 6, 1, 1, 3, 6, 3, 6, 6,\n",
       "       6, 2, 4, 6, 6, 5, 5, 1, 3, 1, 5, 0, 6, 0, 6, 6, 0, 6, 6, 6, 6, 2,\n",
       "       5, 6, 5, 3, 3, 5, 6, 1, 6, 1, 1, 6, 6, 3, 4, 5, 6, 1, 1, 6, 6, 0,\n",
       "       6, 5, 4, 3, 0, 6, 6, 6, 3, 6, 0, 3, 3, 0, 0, 5, 0, 6, 3, 3, 6, 6,\n",
       "       2, 2, 6, 2, 2, 6, 1, 3, 1, 6, 6, 2, 3, 3, 6, 4, 5, 6, 2, 4, 6, 6,\n",
       "       3, 3, 3, 4, 6, 1, 3, 0, 1, 0, 0, 0, 3, 3, 6, 6, 3, 0, 0, 5, 0, 6,\n",
       "       6, 6, 3, 0, 5, 4, 2, 1, 6, 6, 3, 6, 0, 5, 2, 4, 3, 4, 2, 2, 4, 4,\n",
       "       1, 6, 1, 6, 6, 0, 6, 0, 6, 0, 0, 6, 0, 6, 6, 6, 0, 0, 6, 0, 6, 4,\n",
       "       0, 0, 6, 6, 6, 1, 4], dtype=int64)"
      ]
     },
     "execution_count": 29,
     "metadata": {},
     "output_type": "execute_result"
    }
   ],
   "source": [
    "classifier.fit(x_dtrain, y_dtrain)\n",
    "y_dpred = classifier.predict(x_dtest)\n",
    "y_dpred"
   ]
  },
  {
   "cell_type": "markdown",
   "metadata": {},
   "source": [
    "### Confusion Matrix\n"
   ]
  },
  {
   "cell_type": "code",
   "execution_count": 30,
   "metadata": {},
   "outputs": [
    {
     "name": "stdout",
     "output_type": "stream",
     "text": [
      "Confusion matrix\n",
      "\n",
      "Predicted    0    1    2    3    4   5    6\n",
      "Actual                                     \n",
      "0          183    0    0    0    2   0    1\n",
      "1            2  185    0    0    5   0    5\n",
      "2            3    0  100    0    1   0    0\n",
      "3            2    0    0  219    1   1    2\n",
      "4            4    0    0    2  206   0    6\n",
      "5            1    0    0    0    0  73    0\n",
      "6            1    0    0    1    1   0  439\n",
      "acccuracy = 0.972 \n",
      "precision = 0.972 \n",
      "recall= 0.972 \n",
      "f1 = 0.972\n"
     ]
    }
   ],
   "source": [
    "from sklearn.metrics import accuracy_score, f1_score, precision_score, recall_score\n",
    "print(\"Confusion matrix\\n\")\n",
    "print(pd.crosstab(pd.Series(y_test, name = 'Actual'), pd.Series(y_pred, name = 'Predicted')))\n",
    "def get_metrics (y_test, y_predicted):\n",
    "    accuracy = accuracy_score(y_test, y_predicted)\n",
    "    precision = precision_score(y_test, y_predicted, average = 'weighted')\n",
    "    recall = recall_score(y_test, y_predicted, average = 'weighted')\n",
    "    f1 = f1_score(y_test, y_predicted, average='weighted')\n",
    "    return accuracy, precision, recall, f1\n",
    "accuracy, precision, recall, f1 = get_metrics(y_test, y_pred)\n",
    "print (\"acccuracy = %.3f \\nprecision = %.3f \\nrecall= %.3f \\nf1 = %.3f\" % (accuracy, precision, recall, f1))"
   ]
  },
  {
   "cell_type": "code",
   "execution_count": 31,
   "metadata": {},
   "outputs": [
    {
     "name": "stdout",
     "output_type": "stream",
     "text": [
      "Confusion matrix\n",
      "\n",
      "Predicted   0   1   2   3   4   5    6\n",
      "Actual                                \n",
      "0          61   0   0   5   3   2    5\n",
      "1           0  44   0   3   3   0    2\n",
      "2           0   0  49   0   2   0    0\n",
      "3           0   0   0  81   2   0    0\n",
      "4           2   0   0  10  70   0    5\n",
      "5           0   0   0   1   1  35    4\n",
      "6           1   0   0   2   1   0  162\n",
      "acccuracy = 0.903 \n",
      "precision = 0.909 \n",
      "recall= 0.903 \n",
      "f1 = 0.902\n"
     ]
    }
   ],
   "source": [
    "from sklearn.metrics import accuracy_score, f1_score, precision_score, recall_score\n",
    "print(\"Confusion matrix\\n\")\n",
    "print(pd.crosstab(pd.Series(y_ctest, name = 'Actual'), pd.Series(y_cpred, name = 'Predicted')))\n",
    "def get_metrics (y_ctest, y_cpredicted):\n",
    "    accuracy = accuracy_score(y_ctest, y_cpredicted)\n",
    "    precision = precision_score(y_ctest, y_cpredicted, average = 'weighted')\n",
    "    recall = recall_score(y_ctest, y_cpredicted, average = 'weighted')\n",
    "    f1 = f1_score(y_ctest, y_cpredicted, average='weighted')\n",
    "    return accuracy, precision, recall, f1\n",
    "accuracy, precision, recall, f1 = get_metrics(y_ctest, y_cpred)\n",
    "print (\"acccuracy = %.3f \\nprecision = %.3f \\nrecall= %.3f \\nf1 = %.3f\" % (accuracy, precision, recall, f1))"
   ]
  },
  {
   "cell_type": "code",
   "execution_count": 32,
   "metadata": {},
   "outputs": [
    {
     "name": "stdout",
     "output_type": "stream",
     "text": [
      "Confusion matrix\n",
      "\n",
      "Predicted   0   1   2   3   4   5   6\n",
      "Actual                               \n",
      "0          38   0   0   1   0   3   4\n",
      "1           0  24   0   0   0   0   5\n",
      "2           2   1  18   0   0   0   1\n",
      "3           1   0   0  30   1   0   4\n",
      "4           5   3   1   8  18   2   8\n",
      "5           1   0   0   1   0  17   2\n",
      "6           2   1   0   4   1   1  63\n",
      "acccuracy = 0.768 \n",
      "precision = 0.787 \n",
      "recall= 0.768 \n",
      "f1 = 0.758\n"
     ]
    }
   ],
   "source": [
    "from sklearn.metrics import accuracy_score, f1_score, precision_score, recall_score\n",
    "print(\"Confusion matrix\\n\")\n",
    "print(pd.crosstab(pd.Series(y_dtest, name = 'Actual'), pd.Series(y_dpred, name = 'Predicted')))\n",
    "def get_metrics (y_dtest, y_dpredicted):\n",
    "    accuracy = accuracy_score(y_dtest, y_dpredicted)\n",
    "    precision = precision_score(y_dtest, y_dpredicted, average = 'weighted')\n",
    "    recall = recall_score(y_dtest, y_dpredicted, average = 'weighted')\n",
    "    f1 = f1_score(y_dtest, y_dpredicted, average='weighted')\n",
    "    return accuracy, precision, recall, f1\n",
    "accuracy, precision, recall, f1 = get_metrics(y_dtest, y_dpred)\n",
    "print (\"acccuracy = %.3f \\nprecision = %.3f \\nrecall= %.3f \\nf1 = %.3f\" % (accuracy, precision, recall, f1))"
   ]
  },
  {
   "cell_type": "code",
   "execution_count": null,
   "metadata": {},
   "outputs": [],
   "source": []
  }
 ],
 "metadata": {
  "kernelspec": {
   "display_name": "Python 3",
   "language": "python",
   "name": "python3"
  },
  "language_info": {
   "codemirror_mode": {
    "name": "ipython",
    "version": 3
   },
   "file_extension": ".py",
   "mimetype": "text/x-python",
   "name": "python",
   "nbconvert_exporter": "python",
   "pygments_lexer": "ipython3",
   "version": "3.7.4"
  }
 },
 "nbformat": 4,
 "nbformat_minor": 2
}
